{
 "cells": [
  {
   "cell_type": "markdown",
   "metadata": {},
   "source": [
    "# Times divergence algorithms"
   ]
  },
  {
   "cell_type": "markdown",
   "metadata": {},
   "source": [
    "*Created by Mauro Alberti*\n",
    "\n",
    "*Last run: 2019-06-16*"
   ]
  },
  {
   "cell_type": "markdown",
   "metadata": {},
   "source": [
    "From: https://stackoverflow.com/questions/11435809/compute-divergence-of-vector-field-using-python"
   ]
  },
  {
   "cell_type": "code",
   "execution_count": 1,
   "metadata": {},
   "outputs": [],
   "source": [
    "import numpy as np"
   ]
  },
  {
   "cell_type": "code",
   "execution_count": 2,
   "metadata": {},
   "outputs": [],
   "source": [
    "def divergence(F):\n",
    "    \"\"\" compute the divergence of n-D scalar field `F` \"\"\"\n",
    "    return reduce(np.add,np.gradient(F))"
   ]
  },
  {
   "cell_type": "code",
   "execution_count": 3,
   "metadata": {},
   "outputs": [],
   "source": [
    "F = np.random.rand(100,100, 2)"
   ]
  },
  {
   "cell_type": "code",
   "execution_count": 4,
   "metadata": {},
   "outputs": [
    {
     "data": {
      "text/plain": [
       "array([[[2.69541387e-01, 8.10113826e-01],\n",
       "        [7.95465770e-01, 6.25728396e-01],\n",
       "        [5.41488845e-01, 3.69856759e-01],\n",
       "        ...,\n",
       "        [3.67561919e-01, 2.10709632e-02],\n",
       "        [6.64973970e-01, 7.90978987e-01],\n",
       "        [3.12721952e-02, 1.44094003e-01]],\n",
       "\n",
       "       [[2.83623106e-01, 5.51848951e-01],\n",
       "        [1.07060241e-01, 9.62973326e-01],\n",
       "        [5.74109066e-01, 9.90534360e-01],\n",
       "        ...,\n",
       "        [2.40565466e-01, 9.56963306e-01],\n",
       "        [3.11033351e-01, 3.96612658e-01],\n",
       "        [1.60559485e-01, 4.82408966e-02]],\n",
       "\n",
       "       [[9.12693959e-01, 9.42098363e-01],\n",
       "        [6.71576911e-03, 8.09364637e-01],\n",
       "        [3.26599107e-01, 8.82337464e-01],\n",
       "        ...,\n",
       "        [4.54795744e-01, 2.59673358e-01],\n",
       "        [3.25704001e-01, 7.56919240e-01],\n",
       "        [3.83572203e-02, 3.84145139e-01]],\n",
       "\n",
       "       ...,\n",
       "\n",
       "       [[5.55437805e-01, 4.00813040e-01],\n",
       "        [9.22288494e-01, 8.82000365e-01],\n",
       "        [8.05756422e-01, 3.81736278e-01],\n",
       "        ...,\n",
       "        [3.71397912e-01, 4.06594489e-01],\n",
       "        [2.83343034e-01, 1.89966647e-01],\n",
       "        [3.45453443e-01, 2.54570555e-01]],\n",
       "\n",
       "       [[2.38018545e-01, 3.76268537e-01],\n",
       "        [4.65982735e-01, 4.08912319e-01],\n",
       "        [4.29906959e-01, 5.75999876e-02],\n",
       "        ...,\n",
       "        [3.34431749e-01, 1.96492791e-01],\n",
       "        [8.63118584e-01, 1.07177788e-01],\n",
       "        [1.85761123e-01, 7.15785200e-01]],\n",
       "\n",
       "       [[9.46110161e-01, 1.41352359e-01],\n",
       "        [3.88569751e-01, 6.58143221e-01],\n",
       "        [9.02726474e-03, 3.31361285e-01],\n",
       "        ...,\n",
       "        [9.55881215e-01, 5.38569342e-01],\n",
       "        [8.57063761e-04, 8.84870885e-01],\n",
       "        [5.92200968e-01, 1.68400086e-01]]])"
      ]
     },
     "execution_count": 4,
     "metadata": {},
     "output_type": "execute_result"
    }
   ],
   "source": [
    "F"
   ]
  },
  {
   "cell_type": "code",
   "execution_count": 5,
   "metadata": {},
   "outputs": [
    {
     "data": {
      "text/plain": [
       "3"
      ]
     },
     "execution_count": 5,
     "metadata": {},
     "output_type": "execute_result"
    }
   ],
   "source": [
    "F.ndim"
   ]
  },
  {
   "cell_type": "code",
   "execution_count": 6,
   "metadata": {},
   "outputs": [
    {
     "data": {
      "text/plain": [
       "(100, 100, 2)"
      ]
     },
     "execution_count": 6,
     "metadata": {},
     "output_type": "execute_result"
    }
   ],
   "source": [
    "F.shape"
   ]
  },
  {
   "cell_type": "code",
   "execution_count": 7,
   "metadata": {},
   "outputs": [],
   "source": [
    "from functools import reduce"
   ]
  },
  {
   "cell_type": "code",
   "execution_count": 8,
   "metadata": {},
   "outputs": [],
   "source": [
    "def divergence_a(field):\n",
    "    \"return the divergence of a n-D field\"\n",
    "    return np.sum(np.gradient(field),axis=0)"
   ]
  },
  {
   "cell_type": "code",
   "execution_count": 9,
   "metadata": {},
   "outputs": [
    {
     "name": "stdout",
     "output_type": "stream",
     "text": [
      "254 µs ± 15.9 µs per loop (mean ± std. dev. of 7 runs, 1000 loops each)\n"
     ]
    }
   ],
   "source": [
    "timeit divergence_a(F)"
   ]
  },
  {
   "cell_type": "code",
   "execution_count": 10,
   "metadata": {},
   "outputs": [],
   "source": [
    "d_a = divergence(F)"
   ]
  },
  {
   "cell_type": "code",
   "execution_count": 11,
   "metadata": {},
   "outputs": [
    {
     "data": {
      "text/plain": [
       "(100, 100, 2)"
      ]
     },
     "execution_count": 11,
     "metadata": {},
     "output_type": "execute_result"
    }
   ],
   "source": [
    "d_a.shape"
   ]
  },
  {
   "cell_type": "code",
   "execution_count": 12,
   "metadata": {},
   "outputs": [],
   "source": [
    "def divergence_b(F):\n",
    "    \"\"\" compute the divergence of n-D scalar field `F` \"\"\"\n",
    "    return reduce(np.add,np.gradient(F))"
   ]
  },
  {
   "cell_type": "code",
   "execution_count": 13,
   "metadata": {},
   "outputs": [
    {
     "name": "stdout",
     "output_type": "stream",
     "text": [
      "210 µs ± 11.7 µs per loop (mean ± std. dev. of 7 runs, 1000 loops each)\n"
     ]
    }
   ],
   "source": [
    "timeit divergence_b(F)"
   ]
  },
  {
   "cell_type": "code",
   "execution_count": 14,
   "metadata": {},
   "outputs": [],
   "source": [
    "d_b = divergence_b(F)"
   ]
  },
  {
   "cell_type": "code",
   "execution_count": 15,
   "metadata": {},
   "outputs": [
    {
     "data": {
      "text/plain": [
       "(100, 100, 2)"
      ]
     },
     "execution_count": 15,
     "metadata": {},
     "output_type": "execute_result"
    }
   ],
   "source": [
    "d_b.shape"
   ]
  },
  {
   "cell_type": "code",
   "execution_count": 16,
   "metadata": {},
   "outputs": [
    {
     "data": {
      "text/plain": [
       "True"
      ]
     },
     "execution_count": 16,
     "metadata": {},
     "output_type": "execute_result"
    }
   ],
   "source": [
    "np.allclose(d_a, d_b)"
   ]
  },
  {
   "cell_type": "code",
   "execution_count": 17,
   "metadata": {},
   "outputs": [],
   "source": [
    "F = np.random.rand(100,100, 2)"
   ]
  },
  {
   "cell_type": "code",
   "execution_count": 18,
   "metadata": {},
   "outputs": [],
   "source": [
    "def my_divergence(F):\n",
    "    dvx_dx = np.gradient(F[:, :, 0])[1]\n",
    "    dvy_dy = -(np.gradient(F[:, :, 1])[0])\n",
    "    return dvx_dx + dvy_dy"
   ]
  },
  {
   "cell_type": "code",
   "execution_count": 19,
   "metadata": {},
   "outputs": [
    {
     "name": "stdout",
     "output_type": "stream",
     "text": [
      "189 µs ± 2.64 µs per loop (mean ± std. dev. of 7 runs, 10000 loops each)\n"
     ]
    }
   ],
   "source": [
    "timeit my_divergence(F)"
   ]
  },
  {
   "cell_type": "code",
   "execution_count": 20,
   "metadata": {},
   "outputs": [],
   "source": [
    "d_m = my_divergence(F)"
   ]
  },
  {
   "cell_type": "code",
   "execution_count": 21,
   "metadata": {},
   "outputs": [],
   "source": [
    "F1, F2 = F[:, :, 0], F[:, :, 1]"
   ]
  },
  {
   "cell_type": "code",
   "execution_count": 22,
   "metadata": {},
   "outputs": [],
   "source": [
    "def my_divergence_split(F1, F2):\n",
    "    dvx_dx = np.gradient(F1, axis=1)\n",
    "    dvy_dy = np.gradient(F2, axis=0)\n",
    "    return dvx_dx - dvy_dy"
   ]
  },
  {
   "cell_type": "code",
   "execution_count": 23,
   "metadata": {},
   "outputs": [
    {
     "name": "stdout",
     "output_type": "stream",
     "text": [
      "107 µs ± 859 ns per loop (mean ± std. dev. of 7 runs, 10000 loops each)\n"
     ]
    }
   ],
   "source": [
    "timeit my_divergence_split(F1, F2)"
   ]
  },
  {
   "cell_type": "code",
   "execution_count": 24,
   "metadata": {},
   "outputs": [],
   "source": [
    "d_s = my_divergence_split(F1, F2)"
   ]
  },
  {
   "cell_type": "code",
   "execution_count": 25,
   "metadata": {},
   "outputs": [
    {
     "data": {
      "text/plain": [
       "True"
      ]
     },
     "execution_count": 25,
     "metadata": {},
     "output_type": "execute_result"
    }
   ],
   "source": [
    "np.allclose(d_m, d_s)"
   ]
  }
 ],
 "metadata": {
  "kernelspec": {
   "display_name": "Python 3",
   "language": "python",
   "name": "python3"
  },
  "language_info": {
   "codemirror_mode": {
    "name": "ipython",
    "version": 3
   },
   "file_extension": ".py",
   "mimetype": "text/x-python",
   "name": "python",
   "nbconvert_exporter": "python",
   "pygments_lexer": "ipython3",
   "version": "3.5.2"
  }
 },
 "nbformat": 4,
 "nbformat_minor": 2
}
