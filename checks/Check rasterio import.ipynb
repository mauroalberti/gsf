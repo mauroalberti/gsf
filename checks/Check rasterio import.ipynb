{
 "cells": [
  {
   "cell_type": "code",
   "execution_count": 1,
   "metadata": {},
   "outputs": [],
   "source": [
    "import rasterio"
   ]
  },
  {
   "cell_type": "code",
   "execution_count": 2,
   "metadata": {},
   "outputs": [],
   "source": [
    "src_flpth = \"/home/mauro/Documents/projects/gsf/example_data/mt_alpi/malpi_aster_w4u3.tif\""
   ]
  },
  {
   "cell_type": "code",
   "execution_count": 3,
   "metadata": {},
   "outputs": [
    {
     "name": "stdout",
     "output_type": "stream",
     "text": [
      "213 260\n",
      "EPSG:32633\n",
      "| 27.28, 0.00, 580814.58|\n",
      "| 0.00,-27.28, 4444299.46|\n",
      "| 0.00, 0.00, 1.00|\n",
      "1\n",
      "(1,)\n"
     ]
    }
   ],
   "source": [
    "    with rasterio.open(src_flpth) as src:\n",
    "        print(src.width, src.height)\n",
    "        print(src.crs)\n",
    "        print(src.transform)\n",
    "        print(src.count)\n",
    "        print(src.indexes)"
   ]
  },
  {
   "cell_type": "code",
   "execution_count": 4,
   "metadata": {},
   "outputs": [
    {
     "name": "stdout",
     "output_type": "stream",
     "text": [
      "32633\n"
     ]
    }
   ],
   "source": [
    "print(src.crs.to_epsg())"
   ]
  },
  {
   "cell_type": "code",
   "execution_count": 5,
   "metadata": {},
   "outputs": [],
   "source": [
    "from pygsf.spatial.rasters.io import try_read_raster"
   ]
  },
  {
   "cell_type": "code",
   "execution_count": 6,
   "metadata": {},
   "outputs": [
    {
     "name": "stdout",
     "output_type": "stream",
     "text": [
      "Source gt: (580814.5827, 27.27595352112674, 0.0, 4444299.4584, 0.0, -27.275953076923123)\n",
      "Type: <class 'tuple'>\n",
      "Geotransform: [ 5.80814583e+05  2.72759535e+01  0.00000000e+00  4.44429946e+06\n",
      "  0.00000000e+00 -2.72759531e+01]\n",
      "Affine Geotransform: | 27.28, 0.00, 580814.58|\n",
      "| 0.00,-27.28, 4444299.46|\n",
      "| 0.00, 0.00, 1.00|\n"
     ]
    }
   ],
   "source": [
    "success, result = try_read_raster(src_flpth)"
   ]
  },
  {
   "cell_type": "markdown",
   "metadata": {},
   "source": [
    "adfGeoTransform[0] /* top left x */\n",
    "adfGeoTransform[1] /* w-e pixel resolution */\n",
    "adfGeoTransform[2] /* 0 */\n",
    "adfGeoTransform[3] /* top left y */\n",
    "adfGeoTransform[4] /* 0 */\n",
    "adfGeoTransform[5] /* n-s pixel resolution (negative value) */\n"
   ]
  },
  {
   "cell_type": "code",
   "execution_count": 7,
   "metadata": {},
   "outputs": [
    {
     "data": {
      "text/plain": [
       "Affine(27.27595352112674, 0.0, 580814.5827,\n",
       "       0.0, -27.275953076923123, 4444299.4584)"
      ]
     },
     "execution_count": 7,
     "metadata": {},
     "output_type": "execute_result"
    }
   ],
   "source": [
    "src.transform"
   ]
  },
  {
   "cell_type": "code",
   "execution_count": 8,
   "metadata": {},
   "outputs": [
    {
     "data": {
      "text/plain": [
       "affine.Affine"
      ]
     },
     "execution_count": 8,
     "metadata": {},
     "output_type": "execute_result"
    }
   ],
   "source": [
    "type(src.transform)"
   ]
  },
  {
   "cell_type": "code",
   "execution_count": null,
   "metadata": {},
   "outputs": [],
   "source": []
  },
  {
   "cell_type": "code",
   "execution_count": 9,
   "metadata": {},
   "outputs": [
    {
     "data": {
      "text/plain": [
       "4444299.4584"
      ]
     },
     "execution_count": 9,
     "metadata": {},
     "output_type": "execute_result"
    }
   ],
   "source": [
    "src.transform[5]"
   ]
  },
  {
   "cell_type": "code",
   "execution_count": 10,
   "metadata": {},
   "outputs": [
    {
     "data": {
      "text/plain": [
       "(-237481.5, 195036.4)"
      ]
     },
     "execution_count": 10,
     "metadata": {},
     "output_type": "execute_result"
    }
   ],
   "source": [
    "from affine import Affine\n",
    "geotransform = (-237481.5, 425.0, 0.0, 237536.4, 0.0, -425.0)\n",
    "fwd = Affine.from_gdal(*geotransform)\n",
    "col, row = 0, 100\n",
    "fwd * (col, row)"
   ]
  },
  {
   "cell_type": "code",
   "execution_count": 11,
   "metadata": {},
   "outputs": [
    {
     "data": {
      "text/plain": [
       "tuple"
      ]
     },
     "execution_count": 11,
     "metadata": {},
     "output_type": "execute_result"
    }
   ],
   "source": [
    "type(fwd * (col, row))"
   ]
  },
  {
   "cell_type": "code",
   "execution_count": 12,
   "metadata": {},
   "outputs": [
    {
     "data": {
      "text/plain": [
       "affine.Affine"
      ]
     },
     "execution_count": 12,
     "metadata": {},
     "output_type": "execute_result"
    }
   ],
   "source": [
    "type(fwd)"
   ]
  },
  {
   "cell_type": "code",
   "execution_count": null,
   "metadata": {},
   "outputs": [],
   "source": []
  },
  {
   "cell_type": "code",
   "execution_count": 16,
   "metadata": {},
   "outputs": [],
   "source": [
    "from pygsf.mathematics.transformations import *"
   ]
  },
  {
   "cell_type": "code",
   "execution_count": 17,
   "metadata": {},
   "outputs": [],
   "source": [
    "x, y = forward_transformation(fwd, row, col)"
   ]
  },
  {
   "cell_type": "code",
   "execution_count": 18,
   "metadata": {},
   "outputs": [
    {
     "data": {
      "text/plain": [
       "(99.99999999999994, 0.0)"
      ]
     },
     "execution_count": 18,
     "metadata": {},
     "output_type": "execute_result"
    }
   ],
   "source": [
    "backward_transformation(fwd, x, y)"
   ]
  },
  {
   "cell_type": "code",
   "execution_count": null,
   "metadata": {},
   "outputs": [],
   "source": []
  },
  {
   "cell_type": "code",
   "execution_count": null,
   "metadata": {},
   "outputs": [],
   "source": []
  },
  {
   "cell_type": "code",
   "execution_count": null,
   "metadata": {},
   "outputs": [],
   "source": []
  }
 ],
 "metadata": {
  "kernelspec": {
   "display_name": "Python 3",
   "language": "python",
   "name": "python3"
  },
  "language_info": {
   "codemirror_mode": {
    "name": "ipython",
    "version": 3
   },
   "file_extension": ".py",
   "mimetype": "text/x-python",
   "name": "python",
   "nbconvert_exporter": "python",
   "pygments_lexer": "ipython3",
   "version": "3.6.9"
  }
 },
 "nbformat": 4,
 "nbformat_minor": 2
}
