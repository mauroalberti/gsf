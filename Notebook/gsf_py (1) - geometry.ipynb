{
 "cells": [
  {
   "cell_type": "markdown",
   "metadata": {},
   "source": [
    "# gsf Python - geometry"
   ]
  },
  {
   "cell_type": "markdown",
   "metadata": {},
   "source": [
    "*March, 2018, Mauro Alberti, alberti.m65@gmail.com*"
   ]
  },
  {
   "cell_type": "markdown",
   "metadata": {},
   "source": [
    "## 1. Introduction"
   ]
  },
  {
   "cell_type": "markdown",
   "metadata": {},
   "source": [
    "**gsf** is a library for the processing of geological data. It is composed by two modules: *gsf_py*, implemented in Python 3, and *gsf_hs*, that is the corresponding, in-progress version in Haskell. In this notebook the Python version (*gsf_py*) will be described."
   ]
  },
  {
   "cell_type": "markdown",
   "metadata": {},
   "source": [
    "**gsf_py** can be imported in Python 3 via the command: "
   ]
  },
  {
   "cell_type": "code",
   "execution_count": 1,
   "metadata": {},
   "outputs": [],
   "source": [
    "import gsf_py"
   ]
  },
  {
   "cell_type": "markdown",
   "metadata": {},
   "source": [
    "We can be the version by issuing:"
   ]
  },
  {
   "cell_type": "code",
   "execution_count": 2,
   "metadata": {},
   "outputs": [
    {
     "data": {
      "text/plain": [
       "'1.0.3'"
      ]
     },
     "execution_count": 2,
     "metadata": {},
     "output_type": "execute_result"
    }
   ],
   "source": [
    "gsf_py.version"
   ]
  },
  {
   "cell_type": "markdown",
   "metadata": {},
   "source": [
    "## 2. Basic data types: points, vectors, axes and planes"
   ]
  },
  {
   "cell_type": "markdown",
   "metadata": {},
   "source": [
    "Since geological data are expressed via geometric/geographical and physics concepts,\n",
    "this module basics are geometric concepts: *points*, *planes*; and also *vectors*. \n",
    "\n",
    "From these concepts, more specialised, geological concepts are derived: *geological vectors* and *axes*, and *geological planes*. While geological planes are geometric planes, geological vectors and axes are basically vectors. \n",
    "\n",
    "In structural geology, orientations are expressed via angles from references directions (polar coordinates), such as the North  for azimuths, or as the local horizontal plane for the dip angle. "
   ]
  },
  {
   "cell_type": "markdown",
   "metadata": {},
   "source": [
    "We import all classes/methods from the geometry sub-module:"
   ]
  },
  {
   "cell_type": "code",
   "execution_count": 2,
   "metadata": {},
   "outputs": [],
   "source": [
    "from gsf_py.geometry import *"
   ]
  },
  {
   "cell_type": "markdown",
   "metadata": {},
   "source": [
    "### 2.1 Cartesian points"
   ]
  },
  {
   "cell_type": "markdown",
   "metadata": {},
   "source": [
    "A point can be created by providing three Cartesian coordinates:"
   ]
  },
  {
   "cell_type": "code",
   "execution_count": 4,
   "metadata": {},
   "outputs": [],
   "source": [
    "p1 = Point(1.0, 2.4, 0.2)  # definition of a Point instance"
   ]
  },
  {
   "cell_type": "markdown",
   "metadata": {},
   "source": [
    "We can calculate its distance from the reference frame origin via the method abs(): "
   ]
  },
  {
   "cell_type": "code",
   "execution_count": 5,
   "metadata": {},
   "outputs": [
    {
     "data": {
      "text/plain": [
       "2.6076809620810595"
      ]
     },
     "execution_count": 5,
     "metadata": {},
     "output_type": "execute_result"
    }
   ],
   "source": [
    "abs(p1)  # distance of a point from the origin"
   ]
  },
  {
   "cell_type": "markdown",
   "metadata": {},
   "source": [
    "When considering two points, we can calculate the 3D and the horizontal distance (2D) between them:"
   ]
  },
  {
   "cell_type": "code",
   "execution_count": 6,
   "metadata": {},
   "outputs": [],
   "source": [
    "p2 = Point(0.9, 4.2, 10.5)"
   ]
  },
  {
   "cell_type": "code",
   "execution_count": 7,
   "metadata": {},
   "outputs": [
    {
     "data": {
      "text/plain": [
       "10.45657687773585"
      ]
     },
     "execution_count": 7,
     "metadata": {},
     "output_type": "execute_result"
    }
   ],
   "source": [
    "p1.dist_3d(p2)  # 3D distance between two points"
   ]
  },
  {
   "cell_type": "code",
   "execution_count": 8,
   "metadata": {},
   "outputs": [
    {
     "data": {
      "text/plain": [
       "1.8027756377319948"
      ]
     },
     "execution_count": 8,
     "metadata": {},
     "output_type": "execute_result"
    }
   ],
   "source": [
    "p1.dist_2d(p2)  # horizontal (2D) distance between two points"
   ]
  },
  {
   "cell_type": "markdown",
   "metadata": {},
   "source": [
    "Other methods allow to translate the point position by providing three offset cartesian values (x, y, z) or directly via a vector, to check if two points are within a given range of each other and to convert a point to a vector."
   ]
  },
  {
   "cell_type": "markdown",
   "metadata": {},
   "source": [
    "### 2.2 Cartesian planes "
   ]
  },
  {
   "cell_type": "markdown",
   "metadata": {},
   "source": [
    "A Cartesian plane can be defined in a few different ways, but the simplest is by providing three points:"
   ]
  },
  {
   "cell_type": "code",
   "execution_count": 9,
   "metadata": {},
   "outputs": [],
   "source": [
    "pl1 = Plane.from_points(Point(0, 0, 0), Point(1, 0, 0), Point(0, 1, 0))  # definition of a plane from three points"
   ]
  },
  {
   "cell_type": "code",
   "execution_count": 10,
   "metadata": {},
   "outputs": [
    {
     "name": "stdout",
     "output_type": "stream",
     "text": [
      "Plane(0.0000, 0.0000, 1.0000, 0.0000)\n"
     ]
    }
   ],
   "source": [
    "print(pl1)"
   ]
  },
  {
   "cell_type": "markdown",
   "metadata": {},
   "source": [
    "The returned four coefficient (*a*, *b*, *c* and *d*) define the Cartesian plane following the equation: \n",
    "\n",
    "   *ax + by + cz = d*\n",
    "\n",
    "For the considered example, the equation is satisfied for all *x* and *y* values provided that *z* is always zero, i.e. the Cartesian plane is a horizontal plane passing through the frame origin.\n",
    "    "
   ]
  },
  {
   "cell_type": "markdown",
   "metadata": {},
   "source": [
    "We calculate the versor normal to this plane:"
   ]
  },
  {
   "cell_type": "code",
   "execution_count": 11,
   "metadata": {},
   "outputs": [],
   "source": [
    "normal_versor = pl1.nversor()  # versor (unit vector) normal to the provided Cartesian plane"
   ]
  },
  {
   "cell_type": "code",
   "execution_count": 12,
   "metadata": {},
   "outputs": [
    {
     "name": "stdout",
     "output_type": "stream",
     "text": [
      "Vect(0.0000, 0.0000, 1.0000)\n"
     ]
    }
   ],
   "source": [
    "print(normal_versor)"
   ]
  },
  {
   "cell_type": "markdown",
   "metadata": {},
   "source": [
    "And we see that as expected the versor is vertical."
   ]
  },
  {
   "cell_type": "markdown",
   "metadata": {},
   "source": [
    "As another example, we calculate the intersection between two planes, as a versor:"
   ]
  },
  {
   "cell_type": "code",
   "execution_count": 13,
   "metadata": {},
   "outputs": [
    {
     "name": "stdout",
     "output_type": "stream",
     "text": [
      "Vect(0.0000, -1.0000, 0.0000)\n"
     ]
    }
   ],
   "source": [
    "pl1, pl2 = Plane(1, 0, 0, 0), Plane(0, 0, 1, 0)\n",
    "inters_v = pl1.inters_versor(pl2)  # intersection versor between two Cartesian planes \n",
    "print(inters_v)"
   ]
  },
  {
   "cell_type": "markdown",
   "metadata": {},
   "source": [
    "### 2.3 Cartesian vectors"
   ]
  },
  {
   "cell_type": "markdown",
   "metadata": {},
   "source": [
    "Vector creation and manipulation are straightforward:"
   ]
  },
  {
   "cell_type": "code",
   "execution_count": 14,
   "metadata": {},
   "outputs": [],
   "source": [
    "from gsf_py.geometry import *\n",
    "v1, v2 = Vect(3.1, 7.2, 5.6), Vect(4.2, 9.17, 8.0)"
   ]
  },
  {
   "cell_type": "code",
   "execution_count": 15,
   "metadata": {},
   "outputs": [
    {
     "data": {
      "text/plain": [
       "Vect(7.3000, 16.3700, 13.6000)"
      ]
     },
     "execution_count": 15,
     "metadata": {},
     "output_type": "execute_result"
    }
   ],
   "source": [
    "v1 + v2  # vector addition"
   ]
  },
  {
   "cell_type": "code",
   "execution_count": 16,
   "metadata": {},
   "outputs": [
    {
     "data": {
      "text/plain": [
       "Vect(-1.1000, -1.9700, -2.4000)"
      ]
     },
     "execution_count": 16,
     "metadata": {},
     "output_type": "execute_result"
    }
   ],
   "source": [
    "v1 - v2  # vector subtraction"
   ]
  },
  {
   "cell_type": "markdown",
   "metadata": {},
   "source": [
    "Scalar and vector products are obtained via:"
   ]
  },
  {
   "cell_type": "code",
   "execution_count": 17,
   "metadata": {},
   "outputs": [
    {
     "data": {
      "text/plain": [
       "123.844"
      ]
     },
     "execution_count": 17,
     "metadata": {},
     "output_type": "execute_result"
    }
   ],
   "source": [
    "v1.sp(v2)  # scalar product"
   ]
  },
  {
   "cell_type": "code",
   "execution_count": 18,
   "metadata": {},
   "outputs": [
    {
     "data": {
      "text/plain": [
       "Vect(6.2480, -1.2800, -1.8130)"
      ]
     },
     "execution_count": 18,
     "metadata": {},
     "output_type": "execute_result"
    }
   ],
   "source": [
    "v1.vp(v2)  # vector product"
   ]
  },
  {
   "cell_type": "markdown",
   "metadata": {},
   "source": [
    "The angle (in degrees) between two vectors, and the check if they are sub-parallel or sub-orthogonal: "
   ]
  },
  {
   "cell_type": "code",
   "execution_count": 19,
   "metadata": {},
   "outputs": [
    {
     "data": {
      "text/plain": [
       "3.0646173501805807"
      ]
     },
     "execution_count": 19,
     "metadata": {},
     "output_type": "execute_result"
    }
   ],
   "source": [
    "v1.angle(v2)  # angle in degrees bwtween two Cartesian vectors"
   ]
  },
  {
   "cell_type": "code",
   "execution_count": 20,
   "metadata": {},
   "outputs": [
    {
     "data": {
      "text/plain": [
       "False"
      ]
     },
     "execution_count": 20,
     "metadata": {},
     "output_type": "execute_result"
    }
   ],
   "source": [
    "v1.almost_parallel(v2)  # is a vector sub-parallel to another one?"
   ]
  },
  {
   "cell_type": "code",
   "execution_count": 21,
   "metadata": {},
   "outputs": [
    {
     "data": {
      "text/plain": [
       "False"
      ]
     },
     "execution_count": 21,
     "metadata": {},
     "output_type": "execute_result"
    }
   ],
   "source": [
    "v1.is_suborthogonal(v2)  # is a vector sub-orthogonal to another one?"
   ]
  },
  {
   "cell_type": "markdown",
   "metadata": {},
   "source": [
    "A vector can be converted to a geological vector or axis by using the *gvect()* and *gaxis()* methods."
   ]
  },
  {
   "cell_type": "code",
   "execution_count": 22,
   "metadata": {},
   "outputs": [],
   "source": [
    "gv1 = v1.gvect()  # conversion from Cartesian vector to geological vector"
   ]
  },
  {
   "cell_type": "code",
   "execution_count": 23,
   "metadata": {},
   "outputs": [
    {
     "name": "stdout",
     "output_type": "stream",
     "text": [
      "GVect(023.29, -35.54)\n"
     ]
    }
   ],
   "source": [
    "print(gv1)"
   ]
  },
  {
   "cell_type": "code",
   "execution_count": 24,
   "metadata": {},
   "outputs": [],
   "source": [
    "ga2 = v2.gaxis()  # conversion from Cartesian vector to geological axis"
   ]
  },
  {
   "cell_type": "code",
   "execution_count": 25,
   "metadata": {},
   "outputs": [
    {
     "name": "stdout",
     "output_type": "stream",
     "text": [
      "GAxis(024.61, -38.42)\n"
     ]
    }
   ],
   "source": [
    "print(ga2)"
   ]
  },
  {
   "cell_type": "markdown",
   "metadata": {},
   "source": [
    "### 2.4 Geological vectors"
   ]
  },
  {
   "cell_type": "markdown",
   "metadata": {},
   "source": [
    "A *geological vector* is a vector in the 3D space with unit length and a direction defined by a trend (from the North, 0°-360°) and a plunge (-90° to 90°, where positive values are downward-directed while negative ones are upward-directed)."
   ]
  },
  {
   "cell_type": "code",
   "execution_count": 3,
   "metadata": {},
   "outputs": [],
   "source": [
    "gv1 = GVect(312, 45)  # geological vector defined by its trend and plunge"
   ]
  },
  {
   "cell_type": "markdown",
   "metadata": {},
   "source": [
    "Now we plot the GVect instances in a stereoplot. We need the *mplstereonet* module, as well using the *%matplotlib inline* command"
   ]
  },
  {
   "cell_type": "code",
   "execution_count": 4,
   "metadata": {},
   "outputs": [],
   "source": [
    "import mplstereonet\n",
    "%matplotlib inline"
   ]
  },
  {
   "cell_type": "code",
   "execution_count": 5,
   "metadata": {},
   "outputs": [],
   "source": [
    "from gsf_py.utils_plot.mpl_stereonets import gplot"
   ]
  },
  {
   "cell_type": "code",
   "execution_count": 6,
   "metadata": {},
   "outputs": [
    {
     "data": {
      "image/png": "[encoded data removed]",
      "text/plain": [
       "<Figure size 432x288 with 2 Axes>"
      ]
     },
     "metadata": {},
     "output_type": "display_data"
    }
   ],
   "source": [
    "gplot(gv1)"
   ]
  },
  {
   "cell_type": "code",
   "execution_count": null,
   "metadata": {},
   "outputs": [],
   "source": [
    "gv2 = GVect(92, -38)  # gv2 points upwards, since has a negative plunge"
   ]
  },
  {
   "cell_type": "markdown",
   "metadata": {},
   "source": [
    "### 2.5 Geological axes"
   ]
  },
  {
   "cell_type": "markdown",
   "metadata": {},
   "source": [
    "*Geological axes* are similar to geological vectors, but do not have a specific direction, i.e., they have only an orientation. As for geological vectors, they are defined by a trend and a plunge, but the two possible, opposite directions are both allowed and considered for calculations (e.g., the angles between axes), even if they are not explicit."
   ]
  },
  {
   "cell_type": "markdown",
   "metadata": {},
   "source": [
    "We can create a geological axis given trend and plunge values, or convert from geological vector to a geological axis: "
   ]
  },
  {
   "cell_type": "code",
   "execution_count": 27,
   "metadata": {},
   "outputs": [],
   "source": [
    "ga1 = GAxis(219, 24)  # creating a geological axis given trend and plunge"
   ]
  },
  {
   "cell_type": "code",
   "execution_count": 28,
   "metadata": {},
   "outputs": [],
   "source": [
    "ga2 = gv2.as_axis()  # converting a geological vector to a geological axis"
   ]
  },
  {
   "cell_type": "code",
   "execution_count": 29,
   "metadata": {},
   "outputs": [
    {
     "name": "stdout",
     "output_type": "stream",
     "text": [
      "GAxis(219.00, +24.00) GAxis(092.00, -38.00)\n"
     ]
    }
   ],
   "source": [
    "print(ga1, ga2)"
   ]
  },
  {
   "cell_type": "markdown",
   "metadata": {},
   "source": [
    "### 2.6 Geological planes"
   ]
  },
  {
   "cell_type": "markdown",
   "metadata": {},
   "source": [
    "A *geologic plane* is a plane with orientations expressed via geological convention, i.e. the azimuth from North of the strike or dip direction, and the dip angle. The module follows the dip direction convention:"
   ]
  },
  {
   "cell_type": "code",
   "execution_count": 30,
   "metadata": {},
   "outputs": [],
   "source": [
    "gpl1 = GPlane(112, 67)  # definition of a geological plane instance"
   ]
  },
  {
   "cell_type": "code",
   "execution_count": 31,
   "metadata": {},
   "outputs": [
    {
     "name": "stdout",
     "output_type": "stream",
     "text": [
      "GPlane(112.00, +67.00)\n"
     ]
    }
   ],
   "source": [
    "print(gpl1)"
   ]
  },
  {
   "cell_type": "markdown",
   "metadata": {},
   "source": [
    "As previously said, the main distinction between geological axes and vectors is that the the former have not a direction, while the latter are oriented. This difference is reflected for instance in the calculation of the angle between two vectors and two axes:"
   ]
  },
  {
   "cell_type": "code",
   "execution_count": 32,
   "metadata": {},
   "outputs": [],
   "source": [
    "vector_angle = gv1.angle(gv2)  # angle (in degrees) between two geological vectors "
   ]
  },
  {
   "cell_type": "code",
   "execution_count": 33,
   "metadata": {},
   "outputs": [
    {
     "name": "stdout",
     "output_type": "stream",
     "text": [
      "149.56272807646775\n"
     ]
    }
   ],
   "source": [
    "print(vector_angle)"
   ]
  },
  {
   "cell_type": "markdown",
   "metadata": {},
   "source": [
    "We convert the geological vectors to axes:"
   ]
  },
  {
   "cell_type": "code",
   "execution_count": 34,
   "metadata": {},
   "outputs": [],
   "source": [
    "ga1, ga2 = gv1.as_axis(), gv2.as_axis()"
   ]
  },
  {
   "cell_type": "code",
   "execution_count": 35,
   "metadata": {},
   "outputs": [],
   "source": [
    "axis_angle = ga1.angle(ga2)  # angle (in degrees) between two geological axes"
   ]
  },
  {
   "cell_type": "code",
   "execution_count": 36,
   "metadata": {},
   "outputs": [
    {
     "name": "stdout",
     "output_type": "stream",
     "text": [
      "30.43727192353225\n"
     ]
    }
   ],
   "source": [
    "print(axis_angle)"
   ]
  },
  {
   "cell_type": "markdown",
   "metadata": {},
   "source": [
    "The angle between the two axes is the complement to 180° of the angle between the two geological vectors."
   ]
  },
  {
   "cell_type": "markdown",
   "metadata": {},
   "source": [
    "In addition to opposite, downward and upward geological vectors, it is possible to calculate the geological plane common to two geological vectors:"
   ]
  },
  {
   "cell_type": "code",
   "execution_count": 37,
   "metadata": {},
   "outputs": [],
   "source": [
    "gplane = gv1.common_plane(gv2)  # geological plane common to two geological vectors (gv1 and gv2)"
   ]
  },
  {
   "cell_type": "code",
   "execution_count": 38,
   "metadata": {},
   "outputs": [
    {
     "name": "stdout",
     "output_type": "stream",
     "text": [
      "GPlane(310.64, +45.01)\n"
     ]
    }
   ],
   "source": [
    "print(gplane)"
   ]
  },
  {
   "cell_type": "markdown",
   "metadata": {},
   "source": [
    "where the former value is the dip direction of the plane and the latter is the dip angle (downward since positive)"
   ]
  },
  {
   "cell_type": "markdown",
   "metadata": {},
   "source": [
    "as well as the vector normal to both geological vectors:"
   ]
  },
  {
   "cell_type": "code",
   "execution_count": 39,
   "metadata": {},
   "outputs": [],
   "source": [
    "ngv = gv1.normal_gvect(gv2)  # geological vector normal to gv1 and gv2 geological vectors"
   ]
  },
  {
   "cell_type": "code",
   "execution_count": 40,
   "metadata": {},
   "outputs": [
    {
     "name": "stdout",
     "output_type": "stream",
     "text": [
      "GVect(130.64, +44.99)\n"
     ]
    }
   ],
   "source": [
    "print(ngv)"
   ]
  },
  {
   "cell_type": "markdown",
   "metadata": {},
   "source": [
    "where the first value is the dip direction and the second one is the dip angle."
   ]
  },
  {
   "cell_type": "markdown",
   "metadata": {},
   "source": [
    "Considering just a single geological vector, the geological plane normal to the vector is obtained via:"
   ]
  },
  {
   "cell_type": "code",
   "execution_count": 41,
   "metadata": {},
   "outputs": [],
   "source": [
    "ngp = gv1.normal_gplane()  # geological plane normal to a given geological vector"
   ]
  },
  {
   "cell_type": "code",
   "execution_count": 42,
   "metadata": {},
   "outputs": [
    {
     "name": "stdout",
     "output_type": "stream",
     "text": [
      "GPlane(132.00, +45.00)\n"
     ]
    }
   ],
   "source": [
    "print(ngp)"
   ]
  }
 ],
 "metadata": {
  "kernelspec": {
   "display_name": "Python 3",
   "language": "python",
   "name": "python3"
  },
  "language_info": {
   "codemirror_mode": {
    "name": "ipython",
    "version": 3
   },
   "file_extension": ".py",
   "mimetype": "text/x-python",
   "name": "python",
   "nbconvert_exporter": "python",
   "pygments_lexer": "ipython3",
   "version": "3.5.2"
  }
 },
 "nbformat": 4,
 "nbformat_minor": 2
}
