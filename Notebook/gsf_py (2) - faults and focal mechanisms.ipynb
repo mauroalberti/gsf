{
 "cells": [
  {
   "cell_type": "markdown",
   "metadata": {},
   "source": [
    "# gsf Python - faults and focal mechanisms"
   ]
  },
  {
   "cell_type": "markdown",
   "metadata": {},
   "source": [
    "*March, 2018, Mauro Alberti, alberti.m65@gmail.com*"
   ]
  },
  {
   "cell_type": "markdown",
   "metadata": {},
   "source": [
    "## 1. Fault data vs. focal mechanisms"
   ]
  },
  {
   "cell_type": "markdown",
   "metadata": {},
   "source": [
    "Structural investigations of brittle regimes deal with fault data derived from field measurements of fault surfaces. Seismologists investigate seismic events, generally represented as focal mechanisms.\n",
    "\n",
    "Being caused by the same physical events, meso-structural fault data and focal mechanisms share common aspects, even if it is useful to treat them as two distinct type structures, also from an algorithmic point of view."
   ]
  },
  {
   "cell_type": "markdown",
   "metadata": {},
   "source": [
    "## 2. Fault data"
   ]
  },
  {
   "cell_type": "markdown",
   "metadata": {},
   "source": [
    "Fault geometric characteristics can be defined using two geometrical concepts: a plane, approximating the local fault surface, and a slickenline, essentailly a vector parallel to the supposed movement direction. A slickenline can be characterized via an orientation and a movement direction (when available).  \n",
    "\n",
    "Algorithmically, a **Slickenline** class stores the slickenline orientation and movement direction, while a **FaultSlick** class is composed of a **GPlane** instance, representing the geological plane, and a **Slickenline** instance."
   ]
  },
  {
   "cell_type": "markdown",
   "metadata": {},
   "source": [
    "Fault data types are stored in the *faults* submodule:"
   ]
  },
  {
   "cell_type": "code",
   "execution_count": 2,
   "metadata": {},
   "outputs": [],
   "source": [
    "from gsf_py.faults import *"
   ]
  },
  {
   "cell_type": "markdown",
   "metadata": {},
   "source": [
    "### 2.1 Slickenlines"
   ]
  },
  {
   "cell_type": "markdown",
   "metadata": {},
   "source": [
    "A slickenline is created via a **Slickenline** instance, whose input parameter is a **GVect** instance when the movement direction is known, or a **GAxis** instance, when only the lineation orientation is known. The slickenline direction, when known, expresses the movement direction of the upper block, or for subvertical faults, of the opposite fault block with respect to the observer position."
   ]
  },
  {
   "cell_type": "markdown",
   "metadata": {},
   "source": [
    "In the following example, the movement direction is known (**GVect** is used): the considered fault block is moving upward towards N320°, since the plunge value (-10°) is negative."
   ]
  },
  {
   "cell_type": "code",
   "execution_count": 4,
   "metadata": {},
   "outputs": [],
   "source": [
    "slick_known = Slickenline(GVect(320, -10))  # slickenline with known, upward movement direction"
   ]
  },
  {
   "cell_type": "markdown",
   "metadata": {},
   "source": [
    "In the next example, since we don't know the movement direction, a **GAxis** instance is used as imput to the **Slickenine**. We just know that the slickenline has a trend of 240° and a plunge of 17°."
   ]
  },
  {
   "cell_type": "code",
   "execution_count": 3,
   "metadata": {},
   "outputs": [],
   "source": [
    "slick_unknown = Slickenline(GAxis(240, 17))  # slickenkline with unknown movement sense"
   ]
  },
  {
   "cell_type": "markdown",
   "metadata": {},
   "source": [
    "We can check on the two examples, by using the *has_known_sense()* and *has_unknown_sense()* methods:"
   ]
  },
  {
   "cell_type": "code",
   "execution_count": 7,
   "metadata": {},
   "outputs": [
    {
     "data": {
      "text/plain": [
       "True"
      ]
     },
     "execution_count": 7,
     "metadata": {},
     "output_type": "execute_result"
    }
   ],
   "source": [
    "slick_known.has_known_sense()"
   ]
  },
  {
   "cell_type": "code",
   "execution_count": 9,
   "metadata": {},
   "outputs": [
    {
     "data": {
      "text/plain": [
       "False"
      ]
     },
     "execution_count": 9,
     "metadata": {},
     "output_type": "execute_result"
    }
   ],
   "source": [
    "slick_unknown.has_known_sense()"
   ]
  },
  {
   "cell_type": "markdown",
   "metadata": {},
   "source": [
    "It is possible to convert an unknown movement to a known movement or viceversa, and, when the movement is known, to invert it, with the *set_known_sense()* and *set_unknown_sense()* methods."
   ]
  },
  {
   "cell_type": "markdown",
   "metadata": {},
   "source": [
    "### 2.2 Fault planes with slickenlines"
   ]
  },
  {
   "cell_type": "markdown",
   "metadata": {},
   "source": [
    "Having described slickenlines, we can now consider how to represent fault planes presenting slickenlines."
   ]
  },
  {
   "cell_type": "markdown",
   "metadata": {},
   "source": [
    "An example is:"
   ]
  },
  {
   "cell_type": "code",
   "execution_count": 11,
   "metadata": {},
   "outputs": [],
   "source": [
    "flt = FaultSlick(\n",
    "    GPlane(90, 45), \n",
    "    Slickenline(GAxis(90, 45)))"
   ]
  },
  {
   "cell_type": "markdown",
   "metadata": {},
   "source": [
    "A fault instance is created by using the **FaultSlick** class, initialized with two parameters:\n",
    "- the geological plane: a **GPlane** instance\n",
    "- the slickenline: a **Slickenline** instance"
   ]
  },
  {
   "cell_type": "code",
   "execution_count": 12,
   "metadata": {},
   "outputs": [
    {
     "data": {
      "text/plain": [
       "gsf_py.faults.FaultSlick"
      ]
     },
     "execution_count": 12,
     "metadata": {},
     "output_type": "execute_result"
    }
   ],
   "source": [
    "type(flt)  # we check the type"
   ]
  },
  {
   "cell_type": "markdown",
   "metadata": {},
   "source": [
    "We check if this fault instance has a known movement sense:"
   ]
  },
  {
   "cell_type": "code",
   "execution_count": 13,
   "metadata": {},
   "outputs": [
    {
     "data": {
      "text/plain": [
       "False"
      ]
     },
     "execution_count": 13,
     "metadata": {},
     "output_type": "execute_result"
    }
   ],
   "source": [
    "flt.known_sense"
   ]
  },
  {
   "cell_type": "markdown",
   "metadata": {},
   "source": [
    "Since the slickenline orientation was defined via a **GAxis** instance, the movement sense is not known."
   ]
  },
  {
   "cell_type": "markdown",
   "metadata": {},
   "source": [
    "## 3. Focal mechanisms and P-T-B axes "
   ]
  },
  {
   "cell_type": "markdown",
   "metadata": {},
   "source": [
    "Classes for P-T-B axes are defined in the *ptbaxes* submodule:"
   ]
  },
  {
   "cell_type": "code",
   "execution_count": 14,
   "metadata": {},
   "outputs": [],
   "source": [
    "from gsf_py.ptbaxes import *"
   ]
  },
  {
   "cell_type": "markdown",
   "metadata": {},
   "source": [
    "P-T axes instances can be created using the **PTBAxes** class.\n",
    "\n",
    "We can initialize an instance in four ways: \n",
    "- by providing a *couple of **GAxis***, representing the T and P axes\n",
    "- by giving a **FaultSlick** instance as input parameter\n",
    "- defining a couple of Cartesian vectors, representing the P and T axes\n",
    "- by providing a quaternion."
   ]
  },
  {
   "cell_type": "markdown",
   "metadata": {},
   "source": [
    "Creation of a P-T axes instance from a couple of GAxis:"
   ]
  },
  {
   "cell_type": "code",
   "execution_count": 10,
   "metadata": {},
   "outputs": [],
   "source": [
    "ptbx_from_axes = PTBAxes(p_axis=GAxis(0, 0), t_axis=GAxis(90, 0))"
   ]
  },
  {
   "cell_type": "code",
   "execution_count": 11,
   "metadata": {},
   "outputs": [
    {
     "name": "stdout",
     "output_type": "stream",
     "text": [
      "PTBAxes(P: GAxis(000.00, +00.00), T: GAxis(090.00, +00.00))\n"
     ]
    }
   ],
   "source": [
    "print(ptbx_from_axes)"
   ]
  },
  {
   "cell_type": "markdown",
   "metadata": {},
   "source": [
    "Creation of a P-T axes instance from a FaultSlick instance:"
   ]
  },
  {
   "cell_type": "code",
   "execution_count": 12,
   "metadata": {},
   "outputs": [],
   "source": [
    "ptbx_from_fltsl = PTBAxes.from_faultslick(FaultSlick(GPlane(90, 45), Slickenline(GVect(90, 45))))"
   ]
  },
  {
   "cell_type": "code",
   "execution_count": 13,
   "metadata": {},
   "outputs": [
    {
     "name": "stdout",
     "output_type": "stream",
     "text": [
      "PTBAxes(P: GAxis(000.00, -90.00), T: GAxis(090.00, +00.00))\n"
     ]
    }
   ],
   "source": [
    "print(ptbx_from_fltsl)"
   ]
  },
  {
   "cell_type": "markdown",
   "metadata": {},
   "source": [
    "Creation of a P-T axes instance from a couple of Vect instances:"
   ]
  },
  {
   "cell_type": "code",
   "execution_count": 14,
   "metadata": {},
   "outputs": [],
   "source": [
    "ptbx_from_vects = PTBAxes.from_vectors(t_vector=Vect(1,0,0), p_vector=Vect(0,1,0))"
   ]
  },
  {
   "cell_type": "code",
   "execution_count": 15,
   "metadata": {},
   "outputs": [
    {
     "name": "stdout",
     "output_type": "stream",
     "text": [
      "PTBAxes(P: GAxis(000.00, +00.00), T: GAxis(090.00, +00.00))\n"
     ]
    }
   ],
   "source": [
    "print(ptbx_from_vects)"
   ]
  },
  {
   "cell_type": "markdown",
   "metadata": {},
   "source": [
    "It is possible to compare two PTBAxes instances for being almost equal: "
   ]
  },
  {
   "cell_type": "code",
   "execution_count": 16,
   "metadata": {},
   "outputs": [
    {
     "data": {
      "text/plain": [
       "True"
      ]
     },
     "execution_count": 16,
     "metadata": {},
     "output_type": "execute_result"
    }
   ],
   "source": [
    "ptbx_from_vects.almost_equal(ptbx_from_axes)"
   ]
  },
  {
   "cell_type": "code",
   "execution_count": 17,
   "metadata": {},
   "outputs": [
    {
     "data": {
      "text/plain": [
       "False"
      ]
     },
     "execution_count": 17,
     "metadata": {},
     "output_type": "execute_result"
    }
   ],
   "source": [
    "ptbx_from_vects.almost_equal(ptbx_from_fltsl)"
   ]
  },
  {
   "cell_type": "markdown",
   "metadata": {},
   "source": [
    "A PTBAxes instance can be converted to a matrix or to a quaternion, for being further processed (e.g., rotated)"
   ]
  },
  {
   "cell_type": "code",
   "execution_count": 18,
   "metadata": {},
   "outputs": [],
   "source": [
    "quat = ptbx_from_vects.to_quaternion()"
   ]
  },
  {
   "cell_type": "code",
   "execution_count": 19,
   "metadata": {},
   "outputs": [
    {
     "name": "stdout",
     "output_type": "stream",
     "text": [
      "Quaternion(1.00000, 0.00000, 0.00000, 0.00000)\n"
     ]
    }
   ],
   "source": [
    "print(quat)"
   ]
  }
 ],
 "metadata": {
  "kernelspec": {
   "display_name": "Python 3",
   "language": "python",
   "name": "python3"
  },
  "language_info": {
   "codemirror_mode": {
    "name": "ipython",
    "version": 3
   },
   "file_extension": ".py",
   "mimetype": "text/x-python",
   "name": "python",
   "nbconvert_exporter": "python",
   "pygments_lexer": "ipython3",
   "version": "3.5.2"
  }
 },
 "nbformat": 4,
 "nbformat_minor": 2
}
