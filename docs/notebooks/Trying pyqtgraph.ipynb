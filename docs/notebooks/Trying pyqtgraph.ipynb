{
 "cells": [
  {
   "cell_type": "code",
   "execution_count": 1,
   "metadata": {},
   "outputs": [],
   "source": [
    "%gui qt"
   ]
  },
  {
   "cell_type": "code",
   "execution_count": 2,
   "metadata": {},
   "outputs": [
    {
     "data": {
      "text/plain": [
       "<pyqtgraph.graphicsWindows.PlotWindow at 0x7f24def80310>"
      ]
     },
     "execution_count": 2,
     "metadata": {},
     "output_type": "execute_result"
    }
   ],
   "source": [
    "import pyqtgraph as pg\n",
    "pg.plot([1,2,3,2,3])"
   ]
  },
  {
   "cell_type": "code",
   "execution_count": 3,
   "metadata": {},
   "outputs": [
    {
     "data": {
      "text/plain": [
       "\u001b[0;31mDocstring:\u001b[0m\n",
       "Enable or disable IPython GUI event loop integration.\n",
       "\n",
       "%gui [GUINAME]\n",
       "\n",
       "This magic replaces IPython's threaded shells that were activated\n",
       "using the (pylab/wthread/etc.) command line flags.  GUI toolkits\n",
       "can now be enabled at runtime and keyboard\n",
       "interrupts should work without any problems.  The following toolkits\n",
       "are supported:  wxPython, PyQt4, PyGTK, Tk and Cocoa (OSX)::\n",
       "\n",
       "    %gui wx      # enable wxPython event loop integration\n",
       "    %gui qt4|qt  # enable PyQt4 event loop integration\n",
       "    %gui qt5     # enable PyQt5 event loop integration\n",
       "    %gui gtk     # enable PyGTK event loop integration\n",
       "    %gui gtk3    # enable Gtk3 event loop integration\n",
       "    %gui tk      # enable Tk event loop integration\n",
       "    %gui osx     # enable Cocoa event loop integration\n",
       "                 # (requires %matplotlib 1.1)\n",
       "    %gui         # disable all event loop integration\n",
       "\n",
       "WARNING:  after any of these has been called you can simply create\n",
       "an application object, but DO NOT start the event loop yourself, as\n",
       "we have already handled that.\n",
       "\u001b[0;31mFile:\u001b[0m      /usr/local/lib/python3.8/dist-packages/IPython/core/magics/basic.py\n"
      ]
     },
     "metadata": {},
     "output_type": "display_data"
    }
   ],
   "source": [
    "%gui?"
   ]
  },
  {
   "cell_type": "code",
   "execution_count": 4,
   "metadata": {},
   "outputs": [],
   "source": [
    "%gui qt5"
   ]
  },
  {
   "cell_type": "code",
   "execution_count": 5,
   "metadata": {},
   "outputs": [
    {
     "data": {
      "text/plain": [
       "<pyqtgraph.graphicsWindows.PlotWindow at 0x7f249d0b3c10>"
      ]
     },
     "execution_count": 5,
     "metadata": {},
     "output_type": "execute_result"
    }
   ],
   "source": [
    "import pyqtgraph as pg\n",
    "pg.plot([1,2,3,2,3])"
   ]
  },
  {
   "cell_type": "code",
   "execution_count": 6,
   "metadata": {},
   "outputs": [],
   "source": [
    "%gui inline"
   ]
  },
  {
   "cell_type": "code",
   "execution_count": 7,
   "metadata": {},
   "outputs": [
    {
     "data": {
      "text/plain": [
       "<pyqtgraph.graphicsWindows.PlotWindow at 0x7f24fddc4c10>"
      ]
     },
     "execution_count": 7,
     "metadata": {},
     "output_type": "execute_result"
    }
   ],
   "source": [
    "import pyqtgraph as pg\n",
    "pg.plot([1,2,3,2,3])"
   ]
  },
  {
   "cell_type": "code",
   "execution_count": 1,
   "metadata": {},
   "outputs": [],
   "source": [
    "# from: https://stackoverflow.com/questions/43424960/how-to-get-basic-interactive-pyqtgraph-plot-to-work-in-ipython-repl-or-jupyter-c\n",
    "\n",
    "%gui qt5\n",
    "from PyQt5.Qt import QApplication\n",
    "\n",
    "# start qt event loop\n",
    "_instance = QApplication.instance()\n",
    "if not _instance:\n",
    "    _instance = QApplication([])\n",
    "app = _instance\n",
    "\n",
    "import pyqtgraph as pg\n",
    "\n",
    "# create and and set layout\n",
    "view = pg.GraphicsView()   \n",
    "view.setWindowTitle('Your title')\n",
    "layout = pg.GraphicsLayout()\n",
    "view.setCentralItem(layout)\n",
    "view.show()\n",
    "\n",
    "# Set white graph\n",
    "pg.setConfigOptions(antialias=True)\n",
    "pg.setConfigOption('background', 'w')\n",
    "pg.setConfigOption('foreground', 'k')\n",
    "\n",
    "# add subplots\n",
    "p0 = layout.addPlot(0,0)\n",
    "p0.addLegend()\n",
    "p0.plot([1,2,3,4,5], pen='b', name='p0')\n",
    "\n",
    "p1 = layout.addPlot(1,0)\n",
    "p1.addLegend()\n",
    "p1.plot([2,2,2,2,], pen='r', name='p1')\n",
    "\n",
    "p2 = layout.addPlot(1,0)\n",
    "p2.addLegend(offset=(50, 0))\n",
    "p2.plot([-1,0,1,1,], pen='g', name='p1.1')\n",
    "p2.hideAxis('left')\n",
    "p2.showAxis('right')"
   ]
  },
  {
   "cell_type": "code",
   "execution_count": null,
   "metadata": {},
   "outputs": [],
   "source": []
  }
 ],
 "metadata": {
  "kernelspec": {
   "display_name": "Python 3",
   "language": "python",
   "name": "python3"
  },
  "language_info": {
   "codemirror_mode": {
    "name": "ipython",
    "version": 3
   },
   "file_extension": ".py",
   "mimetype": "text/x-python",
   "name": "python",
   "nbconvert_exporter": "python",
   "pygments_lexer": "ipython3",
   "version": "3.8.5"
  }
 },
 "nbformat": 4,
 "nbformat_minor": 4
}
